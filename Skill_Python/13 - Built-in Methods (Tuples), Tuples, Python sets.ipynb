{
 "cells": [
  {
   "cell_type": "markdown",
   "id": "bce39268",
   "metadata": {},
   "source": [
    "#### 13 - Built-in Methods (Tuples), Tuples, Python sets"
   ]
  },
  {
   "cell_type": "markdown",
   "id": "d7ede89f",
   "metadata": {},
   "source": [
    "What are Sets\n",
    "\n",
    "Set in python is atype of data structure that represent a collection of unique elements with no duplicate values.\n",
    "\n",
    "1. set are represents as { }.\n",
    "2. It can remove duplicate elements.\n",
    "3. "
   ]
  },
  {
   "cell_type": "code",
   "execution_count": null,
   "id": "2e63add6",
   "metadata": {},
   "outputs": [],
   "source": [
    "myset={1,2,3,4}\n",
    "print(type(myset))\n",
    "print(myset)"
   ]
  },
  {
   "cell_type": "code",
   "execution_count": null,
   "id": "701ce41d",
   "metadata": {},
   "outputs": [],
   "source": [
    "set2={4,3,7,5,1,1,3,2,2,3,1}\n",
    "print(set2)"
   ]
  },
  {
   "cell_type": "markdown",
   "id": "277d895d",
   "metadata": {},
   "source": [
    "1. Length is smaller.\n",
    "2. All the duplicate elements are remove in sets\n",
    "3. Ordered is not maintained and also it don't contain any duplicate."
   ]
  },
  {
   "cell_type": "markdown",
   "id": "ef20f8ee",
   "metadata": {},
   "source": [
    "\n"
   ]
  },
  {
   "cell_type": "code",
   "execution_count": null,
   "id": "559b23a3",
   "metadata": {},
   "outputs": [],
   "source": [
    "netflix={\"Akash\",\"Aneesha\",\"Ali\"}\n",
    "print(netflix)"
   ]
  },
  {
   "cell_type": "code",
   "execution_count": null,
   "id": "ef4576ab",
   "metadata": {},
   "outputs": [],
   "source": [
    "netflix.add('Syed')\n",
    "print(netflix)"
   ]
  },
  {
   "cell_type": "markdown",
   "id": "6496e4f6",
   "metadata": {},
   "source": [
    "see here syed is not added last of the set since sets are unordered "
   ]
  },
  {
   "cell_type": "code",
   "execution_count": null,
   "id": "d674e365",
   "metadata": {},
   "outputs": [],
   "source": [
    "set2={3,1,4,5,2}\n",
    "print(set2)\n",
    "print(id(set2))"
   ]
  },
  {
   "cell_type": "code",
   "execution_count": null,
   "id": "55da81ec",
   "metadata": {},
   "outputs": [],
   "source": [
    "set3={1,3,2,[2,3]}\n",
    "print(set3)"
   ]
  },
  {
   "cell_type": "markdown",
   "id": "129bd555",
   "metadata": {},
   "source": [
    "Hashable data types: int , float , str , tuple which are immutable datatype"
   ]
  },
  {
   "cell_type": "code",
   "execution_count": null,
   "id": "135c7440",
   "metadata": {},
   "outputs": [],
   "source": [
    "set3={1,2,'2'}\n",
    "print(set3)"
   ]
  },
  {
   "cell_type": "markdown",
   "id": "05cf177b",
   "metadata": {},
   "source": [
    "here 2 is number and '2' is string --> no duplicate"
   ]
  },
  {
   "cell_type": "code",
   "execution_count": null,
   "id": "062c051f",
   "metadata": {},
   "outputs": [],
   "source": [
    "print(len(set3))"
   ]
  },
  {
   "cell_type": "code",
   "execution_count": null,
   "id": "4f2e445f",
   "metadata": {},
   "outputs": [],
   "source": [
    "s1={1,2}\n",
    "s1.update({3,5,6})\n",
    "print(s1)"
   ]
  },
  {
   "cell_type": "code",
   "execution_count": null,
   "id": "f759a1a4",
   "metadata": {},
   "outputs": [],
   "source": [
    "# remove from the set need to mention item\n",
    "s1={1,2,4,5,6}\n",
    "s1.remove(2)\n",
    "print(s1)"
   ]
  },
  {
   "cell_type": "code",
   "execution_count": null,
   "id": "4b8525b1",
   "metadata": {},
   "outputs": [],
   "source": [
    "#add the element in a set\n",
    "\n",
    "s1.add(2)\n",
    "print(s1)"
   ]
  },
  {
   "cell_type": "code",
   "execution_count": null,
   "id": "22e58870",
   "metadata": {},
   "outputs": [],
   "source": [
    "# add multiple elements in a set\n",
    "\n",
    "s1.update({2,3,4,7})\n",
    "print(s1)"
   ]
  },
  {
   "cell_type": "code",
   "execution_count": null,
   "id": "094f52fe",
   "metadata": {},
   "outputs": [],
   "source": [
    "s1.pop()\n",
    "print(s1)"
   ]
  },
  {
   "cell_type": "code",
   "execution_count": null,
   "id": "29f03d74",
   "metadata": {},
   "outputs": [],
   "source": [
    "# comparing two set\n",
    "s1={'a','c'}\n",
    "s2={'c','a'}\n",
    "print(s1==s2)\n"
   ]
  },
  {
   "cell_type": "code",
   "execution_count": null,
   "id": "77318d27",
   "metadata": {},
   "outputs": [],
   "source": [
    "s1={'a','c','d'}\n",
    "s2={'c','a'}\n",
    "print(s1>s2)\n"
   ]
  },
  {
   "cell_type": "code",
   "execution_count": null,
   "id": "52a1bdd9",
   "metadata": {},
   "outputs": [],
   "source": [
    "s1={'a','c','d'}\n",
    "s2={'c','a'}\n",
    "print(s2>s1)"
   ]
  },
  {
   "cell_type": "code",
   "execution_count": null,
   "id": "2938acdc",
   "metadata": {},
   "outputs": [],
   "source": [
    "#union \n",
    "\n",
    "s1={'a','b','z'}\n",
    "s2={'a','c'}\n",
    "s3=s1.union(s2)\n",
    "print(s3)"
   ]
  },
  {
   "cell_type": "code",
   "execution_count": null,
   "id": "44dc31b6",
   "metadata": {},
   "outputs": [],
   "source": [
    "s1={'a','b','z'}\n",
    "s2={'a','c'}\n",
    "s3=s2.union(s1)\n",
    "print(s3)"
   ]
  },
  {
   "cell_type": "code",
   "execution_count": null,
   "id": "04cf7ea4",
   "metadata": {},
   "outputs": [],
   "source": [
    "s1={'a','b','z'}\n",
    "s2={'a','c'}\n",
    "s4={'r','p'}\n",
    "s3=s1.union(s4)\n",
    "print(s3)"
   ]
  },
  {
   "cell_type": "code",
   "execution_count": null,
   "id": "26b2ae36",
   "metadata": {},
   "outputs": [],
   "source": [
    "# Shortcut for union | pip symbol\n",
    "\n",
    "s1={'a','b','z'}\n",
    "s2={'a','c'}\n",
    "s3=s1 | s2\n",
    "print(s3)\n"
   ]
  },
  {
   "cell_type": "code",
   "execution_count": null,
   "id": "7478579f",
   "metadata": {},
   "outputs": [],
   "source": [
    "#intersection\n",
    "\n",
    "s1={'a','b','z'}\n",
    "s2={'a','c'}\n",
    "print(s1.intersection(s2))\n"
   ]
  },
  {
   "cell_type": "code",
   "execution_count": null,
   "id": "7a10c6f0",
   "metadata": {},
   "outputs": [],
   "source": [
    "s1={'a','b','z'}\n",
    "s2={'a','c'}\n",
    "s4={'r','p'}\n",
    "print(s1.intersection(s2))\n",
    "print(s1.intersection(s4))"
   ]
  },
  {
   "cell_type": "code",
   "execution_count": null,
   "id": "e5a9c604",
   "metadata": {},
   "outputs": [],
   "source": [
    "# shortcut for intersection is &\n",
    "\n",
    "s1={'a','b','z'}\n",
    "s2={'a','c'}\n",
    "s4={'r','p'}\n",
    "print(s1.intersection(s2))\n",
    "print(s1.intersection(s4))\n",
    "print(s1 & s2)"
   ]
  },
  {
   "cell_type": "code",
   "execution_count": null,
   "id": "48f52e08",
   "metadata": {},
   "outputs": [],
   "source": [
    "#Difference or - symbol\n",
    "\n",
    "s1={'a','b','z'}\n",
    "s2={'a','c'}\n",
    "s4={'r','p'}\n",
    "print(s1.difference(s2))\n",
    "print(s1.difference(s4))\n",
    "print(s1- s2)"
   ]
  },
  {
   "cell_type": "code",
   "execution_count": null,
   "id": "e9a13d74",
   "metadata": {},
   "outputs": [],
   "source": [
    "s1={'a','b','z'}\n",
    "s2={'a','c'}\n",
    "s4={'r','p'}\n",
    "print(s2.difference(s1))\n",
    "print(s4.difference(s1))\n",
    "print(s2- s1)"
   ]
  },
  {
   "cell_type": "code",
   "execution_count": null,
   "id": "ad3fa002",
   "metadata": {},
   "outputs": [],
   "source": [
    "# Symetric Difference ^ is shortcut\n",
    "\n",
    "s1={'a','b','z'}\n",
    "s2={'a','c'}\n",
    "s4={'r','p'}\n",
    "print(s1.symmetric_difference(s2))\n",
    "print(s1.symmetric_difference(s4))\n",
    "print(s1 ^ s2)\n",
    "print(s2 ^ s4)"
   ]
  },
  {
   "cell_type": "code",
   "execution_count": null,
   "id": "ec5eabc2",
   "metadata": {},
   "outputs": [],
   "source": [
    "#issubet\n",
    "\n",
    "all_numbers={1,2,3,4,5,6,7,8,9,10}\n",
    "prime_numbers = {2,3,5,7}\n",
    "print(prime_numbers.issubset(all_numbers))"
   ]
  },
  {
   "cell_type": "code",
   "execution_count": null,
   "id": "dcad8d25",
   "metadata": {},
   "outputs": [],
   "source": [
    "all_numbers={1,2,3,4,5,6,7,8,9,10}\n",
    "prime_numbers = {2,7,10}\n",
    "print(prime_numbers.issubset(all_numbers))"
   ]
  },
  {
   "cell_type": "code",
   "execution_count": null,
   "id": "912f20a6",
   "metadata": {},
   "outputs": [],
   "source": [
    "all_numbers={1,2,3,4,5,6,7,8,9,10}\n",
    "prime_numbers = {0,7,10}\n",
    "print(prime_numbers.issubset(all_numbers))\n",
    "print(all_numbers.issuperset(prime_numbers))"
   ]
  },
  {
   "cell_type": "code",
   "execution_count": null,
   "id": "813f4fa3",
   "metadata": {},
   "outputs": [],
   "source": [
    "all_numbers={1,2,3,4,5,6,7,8,9,10}\n",
    "prime_numbers = {1,7,10}\n",
    "print(prime_numbers.issubset(all_numbers))\n",
    "print(all_numbers.issuperset(prime_numbers))"
   ]
  },
  {
   "cell_type": "code",
   "execution_count": null,
   "id": "8b5e56f4",
   "metadata": {},
   "outputs": [],
   "source": [
    "#clear\n",
    "\n",
    "s3={1,2,3}\n",
    "s3.clear()\n",
    "print(s3)"
   ]
  },
  {
   "cell_type": "code",
   "execution_count": null,
   "id": "e93424aa",
   "metadata": {},
   "outputs": [],
   "source": [
    "#update\n",
    "s3={1,2,3}\n",
    "s3.update([4,5])\n",
    "print(s3)"
   ]
  },
  {
   "cell_type": "code",
   "execution_count": null,
   "id": "f40ac95a",
   "metadata": {},
   "outputs": [],
   "source": [
    "s3={1,2,3}\n",
    "s3.update((4,5,6))\n",
    "print(s3)"
   ]
  },
  {
   "cell_type": "markdown",
   "id": "d2fec8bb",
   "metadata": {},
   "source": [
    "Q1.\n",
    "\n",
    "Set Operation-1\n",
    "\n",
    "Find both the difference of set A and B ie A- B and B- A and also the symmetric difference between the sets and print in the sorted order as a list\n",
    "\n",
    "Hint:\n",
    "\n",
    "Output:\n",
    "\n",
    "1st line: A- B\n",
    "\n",
    "2nd line: B- A\n",
    "\n",
    "3rd line: symmetric difference between A and B\n",
    "\n",
    "\n",
    "\n",
    "Input:\n",
    "\n",
    "a s d g\n",
    "\n",
    "g s f d\n",
    "\n",
    "Output:\n",
    "\n",
    "['a']\n",
    "\n",
    "['f']\n",
    "\n",
    "['a', 'f']\n"
   ]
  },
  {
   "cell_type": "code",
   "execution_count": 1,
   "id": "84a5f6e0",
   "metadata": {},
   "outputs": [
    {
     "name": "stdout",
     "output_type": "stream",
     "text": [
      "a s d g\n",
      "g s f d\n",
      "['a']\n",
      "['f']\n",
      "['a', 'f']\n"
     ]
    }
   ],
   "source": [
    "setA = set(input().split())\n",
    "setB = set(input().split())\n",
    "d1=setA-setB\n",
    "d2=setB-setA\n",
    "d3=setA.symmetric_difference(setB)\n",
    "r1=sorted(list(d1))\n",
    "r2=sorted(list(d2))\n",
    "r3=sorted(list(d3))\n",
    "print(r1)\n",
    "print(r2)\n",
    "print(r3)"
   ]
  },
  {
   "cell_type": "code",
   "execution_count": 2,
   "id": "b0d6155d",
   "metadata": {},
   "outputs": [
    {
     "name": "stdout",
     "output_type": "stream",
     "text": [
      "a s d g\n",
      "g s f d\n",
      "['a']\n",
      "['f']\n",
      "['a', 'f']\n"
     ]
    }
   ],
   "source": [
    "setA = set(input().split())\n",
    "setB = set(input().split())\n",
    "d1=setA-setB\n",
    "d2=setB-setA\n",
    "d3=setA.symmetric_difference(setB)\n",
    "print(sorted(list(d1)))\n",
    "print(sorted(list(d2)))\n",
    "print(sorted(list(d3)))"
   ]
  },
  {
   "cell_type": "code",
   "execution_count": 3,
   "id": "8c9435cf",
   "metadata": {},
   "outputs": [
    {
     "name": "stdout",
     "output_type": "stream",
     "text": [
      "{1, 3, 4}\n"
     ]
    }
   ],
   "source": [
    "# What is the result of the following code?\n",
    "\n",
    "my_set = {1, 2, 3}\n",
    "my_set.add(4)\n",
    "my_set.remove(2)\n",
    "print(my_set)"
   ]
  },
  {
   "cell_type": "code",
   "execution_count": 4,
   "id": "6014ce56",
   "metadata": {},
   "outputs": [
    {
     "name": "stdout",
     "output_type": "stream",
     "text": [
      "{3}\n"
     ]
    }
   ],
   "source": [
    "# What is the output of the following code?\n",
    "\n",
    "\n",
    "set1 = {1, 2, 3}\n",
    "set2 = {3, 4, 5}\n",
    "print(set1.intersection(set2))"
   ]
  },
  {
   "cell_type": "markdown",
   "id": "0f6b9053",
   "metadata": {},
   "source": [
    "What happens when you try to create a set with duplicate values in Python?\n",
    "\n",
    "A. The duplicates are automatically removed.\n",
    "\n",
    "B. An error is thrown.\n",
    "\n",
    "C. The duplicates are preserved.\n",
    "\n",
    "D. None of the above"
   ]
  },
  {
   "cell_type": "markdown",
   "id": "537e4681",
   "metadata": {},
   "source": [
    "Assignment -2\n",
    "\n",
    "Problem Statement\n",
    "\n",
    "Take 2 sets as inputs and find\n",
    "\n",
    "a. Union of the 2 given sets in sorted manner\n",
    "\n",
    "b. Intersection of the sets in sorted manner\n",
    "\n",
    "Input\n",
    "\n",
    "1st line:space- separated values for the first set\n",
    "    \n",
    "2nd line: Space- separated values for the second set\n",
    "\n",
    "Output\n",
    "\n",
    "1st line: Union of the sets in sorted order as a list\n",
    "    \n",
    "2nd line : Intersection of the sets in sorted order as a list"
   ]
  },
  {
   "cell_type": "markdown",
   "id": "1d7b916c",
   "metadata": {},
   "source": [
    "Example : \n",
    "    \n",
    "Input:\n",
    "    \n",
    "ksn fdsnjfdiof nwin\n",
    "\n",
    "ksn wjfwei jwhjdiew\n",
    "\n",
    "\n",
    "Output\n",
    "\n",
    "['fdsnjfdiof', 'jwhjdiew', 'ksn', 'nwin', 'wjfwei']\n",
    "\n",
    "['ksn']"
   ]
  },
  {
   "cell_type": "code",
   "execution_count": 8,
   "id": "adaaf5a0",
   "metadata": {},
   "outputs": [
    {
     "name": "stdout",
     "output_type": "stream",
     "text": [
      "ksn fdsnjfdiof nwin\n",
      "ksn wjfwei jwhjdiew\n",
      "['fdsnjfdiof', 'jwhjdiew', 'ksn', 'nwin', 'wjfwei']\n",
      "['ksn']\n"
     ]
    }
   ],
   "source": [
    "s1=set(input().split())\n",
    "s2=set(input().split())\n",
    "print(sorted(list(s1.union(s2))))\n",
    "print(sorted(list(s1.intersection(s2))))"
   ]
  },
  {
   "cell_type": "code",
   "execution_count": 9,
   "id": "2f4caaed",
   "metadata": {},
   "outputs": [
    {
     "name": "stdout",
     "output_type": "stream",
     "text": [
      "ksn fdsnjfdiof nwin\n",
      "ksn wjfwei jwhjdiew\n",
      "['fdsnjfdiof', 'jwhjdiew', 'ksn', 'nwin', 'wjfwei']\n",
      "['ksn']\n"
     ]
    }
   ],
   "source": [
    "a=set(input().split())\n",
    "b=set(input().split())\n",
    "print(sorted(list(a | b)))\n",
    "print(sorted(list( a & b)))"
   ]
  },
  {
   "cell_type": "markdown",
   "id": "01090291",
   "metadata": {},
   "source": [
    "Super set and difference\n",
    "\n",
    "Problem Statement\n",
    "\n",
    "Take two sets A, B, and print if A is a subset of B (True/False), find the difference of A from B and vice versa\n",
    "\n",
    "Input\n",
    "\n",
    "1st line: Set A\n",
    "\n",
    "2nd line:Set B\n",
    "\n",
    "Output\n",
    "\n",
    "1st line: If A is a subset of B (True/False)\n",
    "\n",
    "2nd line: Difference of set A from B in sorted order as a list\n",
    "\n",
    "3rd line: If B is a subset of A (True/False)\n",
    "\n",
    "4th line: Difference of set B from A in sorted order as a list\n"
   ]
  },
  {
   "cell_type": "markdown",
   "id": "25f426b1",
   "metadata": {},
   "source": [
    "Input:\n",
    "    \n",
    "asd kjsd kjas\n",
    "\n",
    "asd kjsd kjas jwe kujsac kjsab\n",
    "\n",
    "Output:\n",
    "    \n",
    "True\n",
    "\n",
    "[]\n",
    "\n",
    "False\n",
    "\n",
    "['jwe', 'kjsab', 'kujsac']"
   ]
  },
  {
   "cell_type": "code",
   "execution_count": 15,
   "id": "13efc63f",
   "metadata": {},
   "outputs": [
    {
     "name": "stdout",
     "output_type": "stream",
     "text": [
      "asd kjsd kjas\n",
      "asd kjsd kjas jwe kujsac kjsab\n",
      "True\n",
      "[]\n",
      "False\n",
      "['jwe', 'kjsab', 'kujsac']\n"
     ]
    }
   ],
   "source": [
    "setA=set(input().split())\n",
    "setB=set(input().split())\n",
    "print(setA.issubset(setB))\n",
    "print(sorted(list(setA.difference(setB))))\n",
    "print(setB.issubset(setA))\n",
    "print(sorted(list(setB.difference(setA))))"
   ]
  },
  {
   "cell_type": "code",
   "execution_count": null,
   "id": "9fbad94a",
   "metadata": {},
   "outputs": [],
   "source": [
    "a=set(input().split())\n",
    "b=set(input().split())\n",
    "print(a.issubset(b))\n",
    "x=list(a-b)\n",
    "x.sort()\n",
    "print(x)\n",
    "print(b.issubset(a))\n",
    "x=list(b-a)\n",
    "x.sort()\n",
    "print(x)"
   ]
  }
 ],
 "metadata": {
  "kernelspec": {
   "display_name": "Python 3",
   "language": "python",
   "name": "python3"
  },
  "language_info": {
   "codemirror_mode": {
    "name": "ipython",
    "version": 3
   },
   "file_extension": ".py",
   "mimetype": "text/x-python",
   "name": "python",
   "nbconvert_exporter": "python",
   "pygments_lexer": "ipython3",
   "version": "3.8.8"
  }
 },
 "nbformat": 4,
 "nbformat_minor": 5
}
