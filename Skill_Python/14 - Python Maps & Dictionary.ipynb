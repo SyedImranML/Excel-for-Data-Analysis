{
 "cells": [
  {
   "cell_type": "code",
   "execution_count": 1,
   "id": "adfad70a",
   "metadata": {},
   "outputs": [
    {
     "name": "stdout",
     "output_type": "stream",
     "text": [
      "{1, 2, 3}\n",
      "{1, 2, 3, 4, 5, 6, 7}\n"
     ]
    }
   ],
   "source": [
    "s1={1,2,3}\n",
    "print(s1)\n",
    "s1.update({4,5,6,7})\n",
    "print(s1)"
   ]
  },
  {
   "cell_type": "code",
   "execution_count": 2,
   "id": "8d58a6d0",
   "metadata": {},
   "outputs": [
    {
     "name": "stdout",
     "output_type": "stream",
     "text": [
      "1\n",
      "2\n",
      "3\n",
      "4\n",
      "5\n",
      "6\n",
      "7\n"
     ]
    }
   ],
   "source": [
    "for i in s1:\n",
    "    print(i)"
   ]
  },
  {
   "cell_type": "code",
   "execution_count": 3,
   "id": "803e33e0",
   "metadata": {},
   "outputs": [
    {
     "name": "stdout",
     "output_type": "stream",
     "text": [
      "{1, 2}\n",
      "{4, 5, 6}\n"
     ]
    }
   ],
   "source": [
    "a={1,2,3}\n",
    "b={3,4,5,6}\n",
    "print(a-b)\n",
    "print(b-a)"
   ]
  },
  {
   "cell_type": "code",
   "execution_count": 4,
   "id": "a0fbf847",
   "metadata": {},
   "outputs": [
    {
     "name": "stdout",
     "output_type": "stream",
     "text": [
      "{1, 2, 4, 5, 6}\n"
     ]
    }
   ],
   "source": [
    "print(a^b)"
   ]
  },
  {
   "cell_type": "code",
   "execution_count": 5,
   "id": "77a63f61",
   "metadata": {},
   "outputs": [
    {
     "name": "stdout",
     "output_type": "stream",
     "text": [
      "4\n"
     ]
    }
   ],
   "source": [
    "my_set={1,2,3,4,5}\n",
    "my_list=list(my_set)\n",
    "my_list.remove(5)\n",
    "print(len(my_list))"
   ]
  },
  {
   "cell_type": "code",
   "execution_count": 6,
   "id": "ee379192",
   "metadata": {},
   "outputs": [
    {
     "name": "stdout",
     "output_type": "stream",
     "text": [
      "5\n"
     ]
    }
   ],
   "source": [
    "my_list=[1,2,3,4,5]\n",
    "my_set=set(my_list)\n",
    "my_set.remove(5)\n",
    "my_list = list(my_set)\n",
    "my_list.append(5)\n",
    "print(len(my_list))"
   ]
  },
  {
   "cell_type": "code",
   "execution_count": 7,
   "id": "6bb302d8",
   "metadata": {},
   "outputs": [
    {
     "name": "stdout",
     "output_type": "stream",
     "text": [
      "{'John': '543-1234', 'Syed Imran': '1234-5432'}\n",
      "<class 'dict'>\n"
     ]
    }
   ],
   "source": [
    "#Python Dictionary\n",
    "\n",
    "phonebook = {\"John\":\"543-1234\",\"Syed Imran\":\"1234-5432\"}\n",
    "print(phonebook)\n",
    "print(type(phonebook))"
   ]
  },
  {
   "cell_type": "code",
   "execution_count": 8,
   "id": "7aa3c019",
   "metadata": {},
   "outputs": [
    {
     "name": "stdout",
     "output_type": "stream",
     "text": [
      "{'John': '543-1234', 'Syed Imran': '1234-5432'}\n"
     ]
    }
   ],
   "source": [
    "phonebook = {\n",
    "    \n",
    "               \"John\":\"543-1234\",\n",
    "               \"Syed Imran\":\"1234-5432\"}\n",
    "\n",
    "print(phonebook)"
   ]
  },
  {
   "cell_type": "code",
   "execution_count": 9,
   "id": "afcfe733",
   "metadata": {},
   "outputs": [
    {
     "name": "stdout",
     "output_type": "stream",
     "text": [
      "{'John': ['543-1234', '2345-678'], 'Syed Imran': '1234-5432'}\n"
     ]
    }
   ],
   "source": [
    "phonebook = {\n",
    "    \n",
    "               \"John\":[\"543-1234\",\"2345-678\"],\n",
    "               \"Syed Imran\":\"1234-5432\"}\n",
    "\n",
    "print(phonebook)"
   ]
  },
  {
   "cell_type": "code",
   "execution_count": 10,
   "id": "f274eabe",
   "metadata": {},
   "outputs": [
    {
     "name": "stdout",
     "output_type": "stream",
     "text": [
      "{'John': ('543-1234', '2345-678'), 'Syed Imran': '1234-5432'}\n"
     ]
    }
   ],
   "source": [
    "phonebook = {\n",
    "    \n",
    "               \"John\":(\"543-1234\",\"2345-678\"),\n",
    "               \"Syed Imran\":\"1234-5432\"}\n",
    "\n",
    "print(phonebook)"
   ]
  },
  {
   "cell_type": "code",
   "execution_count": 11,
   "id": "4a42a9ca",
   "metadata": {},
   "outputs": [
    {
     "name": "stdout",
     "output_type": "stream",
     "text": [
      "{'John': '1234', 'Syed Imran': '1234-5432'}\n"
     ]
    }
   ],
   "source": [
    "#overwrite if keys are same with new value\n",
    "\n",
    "phonebook = {\n",
    "    \n",
    "               \"John\":(\"543-1234\",\"2345-678\"),\n",
    "               \"Syed Imran\":\"1234-5432\",\n",
    "               \"John\":\"1234\"\n",
    "}\n",
    "\n",
    "print(phonebook)\n",
    "\n",
    "\n"
   ]
  },
  {
   "cell_type": "code",
   "execution_count": 12,
   "id": "31662a75",
   "metadata": {},
   "outputs": [
    {
     "name": "stdout",
     "output_type": "stream",
     "text": [
      "{'Name': 'Syed Imran', 'Age': 35, 'Subjects': ['Python', 'Data Science'], 'Department': 'Electronic & Communication Engg.', 'Qualification': ['Master in Engineering', 'Pursing Phd. in Data Science'], 'rating': 4.3}\n"
     ]
    }
   ],
   "source": [
    "teacher= {\n",
    "    \"Name\"       :\"Syed Imran\",\n",
    "    \"Age\"        :35,\n",
    "    \"Subjects\"   :[\"Python\",\"Data Science\"],\n",
    "    \"Department\" :\"Electronic & Communication Engg.\",\n",
    "    \"Qualification\":[\"Master in Engineering\",\"Pursing Phd. in Data Science\"],\n",
    "    'rating':4.3\n",
    "}\n",
    "print(teacher)"
   ]
  },
  {
   "cell_type": "code",
   "execution_count": 13,
   "id": "7e428393",
   "metadata": {},
   "outputs": [
    {
     "name": "stdout",
     "output_type": "stream",
     "text": [
      "Syed Imran\n"
     ]
    }
   ],
   "source": [
    "print(teacher['Name'])"
   ]
  },
  {
   "cell_type": "code",
   "execution_count": 14,
   "id": "f0b476d8",
   "metadata": {},
   "outputs": [
    {
     "name": "stdout",
     "output_type": "stream",
     "text": [
      "4.3\n"
     ]
    }
   ],
   "source": [
    "print(teacher['rating'])"
   ]
  },
  {
   "cell_type": "code",
   "execution_count": 15,
   "id": "29028fbd",
   "metadata": {},
   "outputs": [
    {
     "name": "stdout",
     "output_type": "stream",
     "text": [
      "{'Name': 'Syed Imran', 'Age': 35, 'Subjects': ['Python', 'Data Science'], 'Department': 'Electronic & Communication Engg.', 'Qualification': ['Master in Engineering', 'Pursing Phd. in Data Science'], 'rating': 5}\n"
     ]
    }
   ],
   "source": [
    "teacher['rating']=5\n",
    "print(teacher)"
   ]
  },
  {
   "cell_type": "code",
   "execution_count": 16,
   "id": "65ed3263",
   "metadata": {},
   "outputs": [
    {
     "name": "stdout",
     "output_type": "stream",
     "text": [
      "{'Name': 'Syed Imran', 'Age': 35, 'Subjects': ['Python', 'Data Science'], 'Department': 'Electronic & Communication Engg.', 'Qualification': ['Master in Engineering', 'Pursing Phd. in Data Science'], 'rating': 5, 'newValue': 'Python'}\n"
     ]
    }
   ],
   "source": [
    "teacher['newValue']=\"Python\"\n",
    "print(teacher)"
   ]
  },
  {
   "cell_type": "code",
   "execution_count": 17,
   "id": "8820316b",
   "metadata": {},
   "outputs": [
    {
     "name": "stdout",
     "output_type": "stream",
     "text": [
      "{'Name': 'Syed Imran', 'Age': 35, 'Subjects': ['Python', 'Data Science'], 'Department': 'Electronic & Communication Engg.', 'Qualification': ['Master in Engineering', 'Pursing Phd. in Data Science'], 'rating': 5}\n"
     ]
    }
   ],
   "source": [
    "del teacher['newValue']\n",
    "print(teacher)"
   ]
  },
  {
   "cell_type": "code",
   "execution_count": 18,
   "id": "6cabb84b",
   "metadata": {},
   "outputs": [
    {
     "name": "stdout",
     "output_type": "stream",
     "text": [
      "4\n"
     ]
    }
   ],
   "source": [
    "#key can be any hashable datatype\n",
    "\n",
    "x=4\n",
    "print(hash(x))"
   ]
  },
  {
   "cell_type": "code",
   "execution_count": 19,
   "id": "bb3f8652",
   "metadata": {},
   "outputs": [
    {
     "name": "stdout",
     "output_type": "stream",
     "text": [
      "-4944577650443685002\n"
     ]
    }
   ],
   "source": [
    "x='abc'   #string\n",
    "print(hash(x))"
   ]
  },
  {
   "cell_type": "code",
   "execution_count": 20,
   "id": "be3e5a1b",
   "metadata": {},
   "outputs": [
    {
     "name": "stdout",
     "output_type": "stream",
     "text": [
      "529344067295497451\n"
     ]
    }
   ],
   "source": [
    "x=(1,2,3) #tuple\n",
    "print(hash(x))"
   ]
  },
  {
   "cell_type": "code",
   "execution_count": 21,
   "id": "d69dce77",
   "metadata": {},
   "outputs": [
    {
     "ename": "TypeError",
     "evalue": "unhashable type: 'list'",
     "output_type": "error",
     "traceback": [
      "\u001b[1;31m---------------------------------------------------------------------------\u001b[0m",
      "\u001b[1;31mTypeError\u001b[0m                                 Traceback (most recent call last)",
      "\u001b[1;32m<ipython-input-21-3c9e7c809dd4>\u001b[0m in \u001b[0;36m<module>\u001b[1;34m\u001b[0m\n\u001b[0;32m      1\u001b[0m \u001b[0mx\u001b[0m\u001b[1;33m=\u001b[0m\u001b[1;33m[\u001b[0m\u001b[1;36m1\u001b[0m\u001b[1;33m,\u001b[0m\u001b[1;36m2\u001b[0m\u001b[1;33m,\u001b[0m\u001b[1;36m3\u001b[0m\u001b[1;33m]\u001b[0m  \u001b[1;31m#list\u001b[0m\u001b[1;33m\u001b[0m\u001b[1;33m\u001b[0m\u001b[0m\n\u001b[1;32m----> 2\u001b[1;33m \u001b[0mprint\u001b[0m\u001b[1;33m(\u001b[0m\u001b[0mhash\u001b[0m\u001b[1;33m(\u001b[0m\u001b[0mx\u001b[0m\u001b[1;33m)\u001b[0m\u001b[1;33m)\u001b[0m\u001b[1;33m\u001b[0m\u001b[1;33m\u001b[0m\u001b[0m\n\u001b[0m",
      "\u001b[1;31mTypeError\u001b[0m: unhashable type: 'list'"
     ]
    }
   ],
   "source": [
    "x=[1,2,3]  #list  \n",
    "print(hash(x))"
   ]
  },
  {
   "cell_type": "markdown",
   "id": "7105502a",
   "metadata": {},
   "source": [
    "so list is unhashable type"
   ]
  },
  {
   "cell_type": "code",
   "execution_count": null,
   "id": "8e058dc6",
   "metadata": {},
   "outputs": [],
   "source": [
    "x={1,2,3}  #sets \n",
    "print(hash(x))"
   ]
  },
  {
   "cell_type": "markdown",
   "id": "458ce8bd",
   "metadata": {},
   "source": [
    "can't create hash of sets"
   ]
  },
  {
   "cell_type": "code",
   "execution_count": null,
   "id": "4918856b",
   "metadata": {},
   "outputs": [],
   "source": [
    "x=True  #boolean values\n",
    "print(hash(x))"
   ]
  },
  {
   "cell_type": "code",
   "execution_count": null,
   "id": "2e966f93",
   "metadata": {},
   "outputs": [],
   "source": [
    "x=False\n",
    "print(hash(x))"
   ]
  },
  {
   "cell_type": "markdown",
   "id": "1604e27a",
   "metadata": {},
   "source": [
    "Note : which ever is hashable you can use it as key"
   ]
  },
  {
   "cell_type": "code",
   "execution_count": null,
   "id": "9e10b2f1",
   "metadata": {},
   "outputs": [],
   "source": [
    "d={\n",
    "    34:'abcdef',\n",
    "    34.345:67,\n",
    "    True:34.12,\n",
    "    'dsf':23,\n",
    "    (1,2,3):[1,2,3,4]\n",
    "}\n",
    "print(d)"
   ]
  },
  {
   "cell_type": "markdown",
   "id": "4d3e2b3e",
   "metadata": {},
   "source": [
    "Note : Left side --> only Hashable Datatype\n",
    "       Right side --> any datatype"
   ]
  },
  {
   "cell_type": "code",
   "execution_count": null,
   "id": "7e2f60e9",
   "metadata": {},
   "outputs": [],
   "source": [
    "d={\n",
    "    34:'abcdef',\n",
    "    34.345:67,\n",
    "    True:34.12,\n",
    "    'dsf':23,\n",
    "    (1,2,3):[1,2,3,4],\n",
    "    [1,2]:[2,3,4]\n",
    "}\n",
    "print(d)"
   ]
  },
  {
   "cell_type": "code",
   "execution_count": null,
   "id": "ef927b85",
   "metadata": {},
   "outputs": [],
   "source": [
    "d={\n",
    "    34:'abcdef',\n",
    "    34.345:67,\n",
    "    True:34.12,\n",
    "    'dsf':23,\n",
    "    (1,2,3):[1,2,3,4],\n",
    "    {1,2,3}:34\n",
    "}\n",
    "print(d)"
   ]
  },
  {
   "cell_type": "code",
   "execution_count": null,
   "id": "e2185314",
   "metadata": {},
   "outputs": [],
   "source": [
    "d={\n",
    "    34:'abcdef',\n",
    "    34.345:67,\n",
    "    True:34.12,\n",
    "    'dsf':23,\n",
    "    (1,2,3):[1,2,3,4],\n",
    "    {1:\"a\",2:\"b\"}:3\n",
    "}\n",
    "print(d)"
   ]
  },
  {
   "cell_type": "markdown",
   "id": "f86ba8c0",
   "metadata": {},
   "source": [
    "hash value is some thing which is constant"
   ]
  },
  {
   "cell_type": "code",
   "execution_count": null,
   "id": "8e2987fb",
   "metadata": {},
   "outputs": [],
   "source": [
    "x=(1,2)\n",
    "y=(1,2)\n",
    "print(id(x))\n",
    "print(id(y))\n",
    "print(hash(x))\n",
    "print(hash(y))"
   ]
  },
  {
   "cell_type": "code",
   "execution_count": null,
   "id": "9f5ea649",
   "metadata": {},
   "outputs": [],
   "source": [
    "x=(1,2)\n",
    "y=(2,1)\n",
    "print(id(x))\n",
    "print(id(y))\n",
    "print(hash(x))\n",
    "print(hash(y))"
   ]
  },
  {
   "cell_type": "code",
   "execution_count": null,
   "id": "037b1090",
   "metadata": {},
   "outputs": [],
   "source": [
    "x=(1,2)\n",
    "y=(1,2)\n",
    "print(id(x))\n",
    "print(id(y))\n",
    "print(hash(x))\n",
    "print(hash(y))\n",
    "print(x==y)"
   ]
  },
  {
   "cell_type": "code",
   "execution_count": null,
   "id": "a06f944b",
   "metadata": {},
   "outputs": [],
   "source": [
    "dict1={\"a\":10,\"b\":2,\"c\":3}\n",
    "\n",
    "str1=\" \"\n",
    "\n",
    "for i in dict1:\n",
    "\n",
    "    str1=str1+str(dict1[i])+\" \"\n",
    "\n",
    "    print(str1)\n",
    "    str2=str1[:-1]\n",
    "    print(str2)\n",
    "\n",
    "print(str2[::-1])\n"
   ]
  },
  {
   "cell_type": "code",
   "execution_count": null,
   "id": "1957f266",
   "metadata": {},
   "outputs": [],
   "source": [
    "dict={\"lion\":\"wild\",\"tiger\":\"wild\",\"cat\":\"domestic\",\"dog\":\"domestic\"}\n"
   ]
  },
  {
   "cell_type": "code",
   "execution_count": null,
   "id": "a4969037",
   "metadata": {},
   "outputs": [],
   "source": [
    "del dict[\"tiger\"]"
   ]
  },
  {
   "cell_type": "code",
   "execution_count": null,
   "id": "3badb403",
   "metadata": {},
   "outputs": [],
   "source": [
    "dict"
   ]
  },
  {
   "cell_type": "code",
   "execution_count": null,
   "id": "ed7f6104",
   "metadata": {},
   "outputs": [],
   "source": [
    "k=int(input())\n",
    "v=int(input())\n",
    "dict={}\n",
    "for i in range(1,k+1):\n",
    "    dict[i]=v-20\n",
    "    v=v+10\n",
    "print(dict)"
   ]
  },
  {
   "cell_type": "code",
   "execution_count": null,
   "id": "3973bd5e",
   "metadata": {},
   "outputs": [],
   "source": [
    "students ={\n",
    "    'abc': {\n",
    "           'grades': [89,90,80],\n",
    "            'attendence':96\n",
    "            },\n",
    "      'Syed': {\n",
    "          'grades':[89,78,90],\n",
    "          'attendence':87\n",
    "               }\n",
    "    }\n",
    "         \n",
    "print(students)"
   ]
  },
  {
   "cell_type": "code",
   "execution_count": null,
   "id": "55842acf",
   "metadata": {},
   "outputs": [],
   "source": [
    "print(students['abc'])"
   ]
  },
  {
   "cell_type": "code",
   "execution_count": null,
   "id": "48cbf740",
   "metadata": {},
   "outputs": [],
   "source": [
    "print(students['abc']['grades'])"
   ]
  },
  {
   "cell_type": "code",
   "execution_count": null,
   "id": "f4b247fb",
   "metadata": {},
   "outputs": [],
   "source": [
    "# or instead of single line i can use multiple line\n",
    "x=students['abc']\n",
    "y=x['grades']\n",
    "print(y)"
   ]
  },
  {
   "cell_type": "code",
   "execution_count": null,
   "id": "d68b47a1",
   "metadata": {},
   "outputs": [],
   "source": [
    "from pprint import pprint\n",
    "employees = {\n",
    "         'Jone': {\n",
    "             'age':30,\n",
    "             'department' : 'Marketing'\n",
    "                   },\n",
    "          'Syed': {\n",
    "             'age':35,\n",
    "             'department' : 'IT'\n",
    "                   },\n",
    "          'David': {\n",
    "             'age':37,\n",
    "             'department' : 'HR'\n",
    "                   }\n",
    "    }\n",
    "pprint(employees)"
   ]
  },
  {
   "cell_type": "code",
   "execution_count": null,
   "id": "82162ad9",
   "metadata": {},
   "outputs": [],
   "source": [
    "from pprint import pprint\n",
    "employees = [\n",
    "              {\n",
    "             'age':30,\n",
    "             'department' : 'Marketing'\n",
    "                   },\n",
    "              {\n",
    "             'age':35,\n",
    "             'department' : 'IT'\n",
    "                   },\n",
    "                {\n",
    "             'age':37,\n",
    "             'department' : 'HR'\n",
    "                   }\n",
    "]\n",
    "pprint(employees)"
   ]
  },
  {
   "cell_type": "code",
   "execution_count": null,
   "id": "c49d113f",
   "metadata": {},
   "outputs": [],
   "source": [
    "import pprint\n",
    "employees = {\n",
    "         'Jone': {\n",
    "             'age':30,\n",
    "             'department' : 'Marketing'\n",
    "                   },\n",
    "          'Syed': {\n",
    "             'age':35,\n",
    "             'department' : 'IT'\n",
    "                   },\n",
    "          'David': {\n",
    "             'age':37,\n",
    "             'department' : 'HR'\n",
    "                   }\n",
    "    }\n",
    "pprint.pprint(employees)"
   ]
  },
  {
   "cell_type": "code",
   "execution_count": null,
   "id": "73b08782",
   "metadata": {},
   "outputs": [],
   "source": [
    "import pprint\n",
    "employees = {\n",
    "         'Jone': {\n",
    "             'age':30,\n",
    "             'department' : 'Marketing'\n",
    "                   },\n",
    "          'Syed': {\n",
    "             'age':35,\n",
    "             'department' : 'IT'\n",
    "                   },\n",
    "          'David': {\n",
    "             'age':37,\n",
    "             'department' : 'HR'\n",
    "                   }\n",
    "    }\n",
    "pprint.pprint(employees)\n",
    "keys=employees.keys()\n",
    "print(keys)"
   ]
  },
  {
   "cell_type": "code",
   "execution_count": null,
   "id": "f9162801",
   "metadata": {},
   "outputs": [],
   "source": [
    "values=employees.values()\n",
    "print(values)"
   ]
  },
  {
   "cell_type": "code",
   "execution_count": null,
   "id": "e5b9fcf0",
   "metadata": {},
   "outputs": [],
   "source": [
    "#key values length\n",
    "print(len(employees))"
   ]
  },
  {
   "cell_type": "code",
   "execution_count": null,
   "id": "8442b606",
   "metadata": {},
   "outputs": [],
   "source": [
    "items=employees.items()\n",
    "print(items)"
   ]
  },
  {
   "cell_type": "code",
   "execution_count": null,
   "id": "954258f7",
   "metadata": {},
   "outputs": [],
   "source": [
    "for i in items:\n",
    "    print(i)"
   ]
  },
  {
   "cell_type": "code",
   "execution_count": null,
   "id": "48539c66",
   "metadata": {},
   "outputs": [],
   "source": [
    "import pprint\n",
    "employees = {\n",
    "         'Jone': {\n",
    "             'age':30,\n",
    "             'department' : 'Marketing'\n",
    "                   },\n",
    "          'Syed': {\n",
    "             'age':35,\n",
    "             'department' : 'IT'\n",
    "                   },\n",
    "          'David': {\n",
    "             'age':37,\n",
    "             'department' : 'HR'\n",
    "                   }\n",
    "    }\n",
    "pprint.pprint(employees)"
   ]
  },
  {
   "cell_type": "code",
   "execution_count": null,
   "id": "79b3fd8e",
   "metadata": {},
   "outputs": [],
   "source": [
    "import pprint\n",
    "employees = {\n",
    "         'Jone': {\n",
    "             'age':30,\n",
    "             'department' : 'Marketing'\n",
    "                   },\n",
    "          'Syed': {\n",
    "             'age':35,\n",
    "             'department' : 'IT'\n",
    "                   },\n",
    "          'David': {\n",
    "             'age':37,\n",
    "             'department' : 'HR'\n",
    "                   }\n",
    "    }\n",
    "pprint.pprint(employees)\n",
    "print()\n",
    "\n",
    "print(employees.get('Jone'))"
   ]
  },
  {
   "cell_type": "code",
   "execution_count": null,
   "id": "d0a74e02",
   "metadata": {},
   "outputs": [],
   "source": [
    "print(employees.get('Jone'))\n",
    "print(employees['Jone'])"
   ]
  },
  {
   "cell_type": "code",
   "execution_count": null,
   "id": "ec2df559",
   "metadata": {},
   "outputs": [],
   "source": [
    "print(employees.get('Jone1'))\n"
   ]
  },
  {
   "cell_type": "code",
   "execution_count": null,
   "id": "d85b17b8",
   "metadata": {},
   "outputs": [],
   "source": [
    "print(employees['Jone1'])"
   ]
  },
  {
   "cell_type": "code",
   "execution_count": 22,
   "id": "0e576fa8",
   "metadata": {},
   "outputs": [
    {
     "name": "stdout",
     "output_type": "stream",
     "text": [
      "{'Name': 'Syed Imran', 'Age': 35, 'Subjects': ['Python', 'Data Science'], 'Department': 'Electronic & Communication Engg.', 'Qualification': ['Master in Engineering', 'Pursing Phd. in Data Science'], 'rating': 4.3}\n"
     ]
    }
   ],
   "source": [
    "teacher= {\n",
    "    \"Name\"       :\"Syed Imran\",\n",
    "    \"Age\"        :35,\n",
    "    \"Subjects\"   :[\"Python\",\"Data Science\"],\n",
    "    \"Department\" :\"Electronic & Communication Engg.\",\n",
    "    \"Qualification\":[\"Master in Engineering\",\"Pursing Phd. in Data Science\"],\n",
    "    'rating':4.3\n",
    "}\n",
    "print(teacher)"
   ]
  },
  {
   "cell_type": "code",
   "execution_count": 23,
   "id": "d7f24ead",
   "metadata": {},
   "outputs": [
    {
     "name": "stdout",
     "output_type": "stream",
     "text": [
      "Syed Imran\n",
      "35\n",
      "['Python', 'Data Science']\n",
      "Electronic & Communication Engg.\n",
      "['Master in Engineering', 'Pursing Phd. in Data Science']\n",
      "4.3\n"
     ]
    }
   ],
   "source": [
    "keys=list(teacher.keys())\n",
    "i=0\n",
    "while i < len(keys):\n",
    "    print(teacher[keys[i]])\n",
    "    i=i+1\n",
    "    "
   ]
  },
  {
   "cell_type": "code",
   "execution_count": 24,
   "id": "f88246f2",
   "metadata": {},
   "outputs": [
    {
     "name": "stdout",
     "output_type": "stream",
     "text": [
      "{'Name': 'Syed Imran', 'Age': 35, 'Subjects': ['Python', 'Data Science'], 'Department': 'Electronic & Communication Engg.', 'Qualification': ['Master in Engineering', 'Pursing Phd. in Data Science']}\n",
      "4.3\n"
     ]
    }
   ],
   "source": [
    "result=teacher.pop('rating')\n",
    "print(teacher)\n",
    "print(result)"
   ]
  },
  {
   "cell_type": "code",
   "execution_count": 25,
   "id": "489a52d6",
   "metadata": {},
   "outputs": [
    {
     "name": "stdout",
     "output_type": "stream",
     "text": [
      "{'Name': 'Syed Imran', 'Age': 35, 'Subjects': ['Python', 'Data Science'], 'Department': 'Electronic & Communication Engg.', 'Qualification': ['Master in Engineering', 'Pursing Phd. in Data Science']}\n",
      "Not Avaiable\n"
     ]
    }
   ],
   "source": [
    "result=teacher.pop('abc','Not Avaiable')\n",
    "print(teacher)\n",
    "print(result)"
   ]
  },
  {
   "cell_type": "code",
   "execution_count": 27,
   "id": "5265fbf9",
   "metadata": {},
   "outputs": [
    {
     "name": "stdout",
     "output_type": "stream",
     "text": [
      "{}\n"
     ]
    }
   ],
   "source": [
    "teacher.clear()\n",
    "print(teacher)"
   ]
  },
  {
   "cell_type": "code",
   "execution_count": 28,
   "id": "5aa9f75c",
   "metadata": {},
   "outputs": [
    {
     "name": "stdout",
     "output_type": "stream",
     "text": [
      "{'Red': 1, 'Blue': 2, 'Green': 3}\n"
     ]
    }
   ],
   "source": [
    "color = [('Red',1),('Blue',2),('Green',3)]\n",
    "d=dict(color)\n",
    "print(d)"
   ]
  },
  {
   "cell_type": "code",
   "execution_count": 29,
   "id": "3d2d375c",
   "metadata": {},
   "outputs": [
    {
     "ename": "ValueError",
     "evalue": "dictionary update sequence element #2 has length 5; 2 is required",
     "output_type": "error",
     "traceback": [
      "\u001b[1;31m---------------------------------------------------------------------------\u001b[0m",
      "\u001b[1;31mValueError\u001b[0m                                Traceback (most recent call last)",
      "\u001b[1;32m<ipython-input-29-f2579489825b>\u001b[0m in \u001b[0;36m<module>\u001b[1;34m\u001b[0m\n\u001b[0;32m      1\u001b[0m \u001b[0mcolor\u001b[0m \u001b[1;33m=\u001b[0m \u001b[1;33m[\u001b[0m\u001b[1;33m(\u001b[0m\u001b[1;34m'Red'\u001b[0m\u001b[1;33m,\u001b[0m\u001b[1;36m1\u001b[0m\u001b[1;33m)\u001b[0m\u001b[1;33m,\u001b[0m\u001b[1;33m(\u001b[0m\u001b[1;34m'Blue'\u001b[0m\u001b[1;33m,\u001b[0m\u001b[1;36m2\u001b[0m\u001b[1;33m)\u001b[0m\u001b[1;33m,\u001b[0m\u001b[1;33m(\u001b[0m\u001b[1;34m'Green'\u001b[0m\u001b[1;33m)\u001b[0m\u001b[1;33m]\u001b[0m\u001b[1;33m\u001b[0m\u001b[1;33m\u001b[0m\u001b[0m\n\u001b[1;32m----> 2\u001b[1;33m \u001b[0md\u001b[0m\u001b[1;33m=\u001b[0m\u001b[0mdict\u001b[0m\u001b[1;33m(\u001b[0m\u001b[0mcolor\u001b[0m\u001b[1;33m)\u001b[0m\u001b[1;33m\u001b[0m\u001b[1;33m\u001b[0m\u001b[0m\n\u001b[0m\u001b[0;32m      3\u001b[0m \u001b[0mprint\u001b[0m\u001b[1;33m(\u001b[0m\u001b[0md\u001b[0m\u001b[1;33m)\u001b[0m\u001b[1;33m\u001b[0m\u001b[1;33m\u001b[0m\u001b[0m\n",
      "\u001b[1;31mValueError\u001b[0m: dictionary update sequence element #2 has length 5; 2 is required"
     ]
    }
   ],
   "source": [
    "color = [('Red',1),('Blue',2),('Green')]\n",
    "d=dict(color)\n",
    "print(d)"
   ]
  },
  {
   "cell_type": "code",
   "execution_count": 30,
   "id": "2668231e",
   "metadata": {},
   "outputs": [
    {
     "name": "stdout",
     "output_type": "stream",
     "text": [
      "{1: 'a', 2: 'b', 3: 'c', 4: 'd'}\n"
     ]
    }
   ],
   "source": [
    "l1=[1,2,3,4]\n",
    "l2=['a','b','c','d']\n",
    "d=zip(l1,l2)\n",
    "print(dict(d))"
   ]
  },
  {
   "cell_type": "code",
   "execution_count": 31,
   "id": "8c4d451c",
   "metadata": {},
   "outputs": [
    {
     "name": "stdout",
     "output_type": "stream",
     "text": [
      "{1: 'a', 2: 'b', 3: 'c', 4: 'd'}\n"
     ]
    }
   ],
   "source": [
    "l1=[1,2,3,4,5,6,7,8]\n",
    "l2=['a','b','c','d']\n",
    "d=zip(l1,l2)\n",
    "print(dict(d))"
   ]
  },
  {
   "cell_type": "code",
   "execution_count": 33,
   "id": "4beb6649",
   "metadata": {},
   "outputs": [
    {
     "name": "stdout",
     "output_type": "stream",
     "text": [
      "{1: 'a', 2: 'b', 3: 'c', 4: 'd', 5: None, 6: None, 7: None, 8: None}\n"
     ]
    }
   ],
   "source": [
    "from itertools import zip_longest\n",
    "l1=[1,2,3,4,5,6,7,8]\n",
    "l2=['a','b','c','d']\n",
    "d=zip_longest(l1,l2)\n",
    "print(dict(d))"
   ]
  },
  {
   "cell_type": "code",
   "execution_count": 35,
   "id": "acfd8f23",
   "metadata": {},
   "outputs": [
    {
     "name": "stdout",
     "output_type": "stream",
     "text": [
      "{1: 'a', 2: 'b', 3: 'c', 4: 'd'}\n"
     ]
    }
   ],
   "source": [
    "d1={1:'a',2:'b'}\n",
    "d2={3:'c',4:'d'}\n",
    "d1.update(d2)\n",
    "print(d1)"
   ]
  },
  {
   "cell_type": "code",
   "execution_count": 38,
   "id": "997a21fa",
   "metadata": {},
   "outputs": [
    {
     "name": "stdout",
     "output_type": "stream",
     "text": [
      "[(1, 'a'), (2, 'b'), (3, 'c'), (4, 'd')]\n",
      "{}\n"
     ]
    }
   ],
   "source": [
    "l1=[1,2,3,4,5,6,7,8]\n",
    "l2=['a','b','c','d']\n",
    "d=zip(l1,l2)\n",
    "print(list(d))\n",
    "for i in d:\n",
    "    print(i)\n",
    "print(dict(d))"
   ]
  },
  {
   "cell_type": "markdown",
   "id": "22454ffc",
   "metadata": {},
   "source": [
    "Assignment -1\n",
    "\n",
    "Problem Statement\n",
    "\n",
    "Write a program to add a key to a dictionary.\n",
    "\n",
    "The original dictionary has a structure as {0: 10, 1: 20}. Update the key value of 1.\n",
    "\n",
    "Input\n",
    "\n",
    "The first line contains the key value to be updated with.\n",
    "\n",
    "Constraints:\n",
    "    \n",
    "-100000<=n<=100000\n",
    "\n",
    "Output\n",
    "\n",
    "Prints the dictionary with the updated value.\n",
    "\n",
    "Sample Input:\n",
    "\n",
    "35\n",
    "\n",
    "Sample Output:\n",
    "\n",
    "{0: 10, 1: 35}\n"
   ]
  },
  {
   "cell_type": "code",
   "execution_count": 39,
   "id": "80a762bc",
   "metadata": {},
   "outputs": [
    {
     "name": "stdout",
     "output_type": "stream",
     "text": [
      "35\n",
      "{0: 10, 1: 35}\n"
     ]
    }
   ],
   "source": [
    "a={0: 10, 1: 20}\n",
    "a.update({1:int(input())})\n",
    "print(a)"
   ]
  },
  {
   "cell_type": "markdown",
   "id": "c3868c86",
   "metadata": {},
   "source": [
    "Assignment -2\n",
    "\n",
    "Max Min of Dictionary\n",
    "\n",
    "\n",
    "Problem Statement\n",
    "\n",
    "Write a program to get the maximum and minimum value in a dictionary( Given values are of int data type).\n",
    "\n",
    "Example:\n",
    "\n",
    "my_dict = {'x':500, 'y':5874, 'z': 560}\n",
    "\n",
    "Maximum Value: 5874\n",
    "\n",
    "Minimum Value: 500\n",
    "    \n",
    "Input\n",
    "\n",
    "The first line contains the value of x, the second line contains the value of y, and the third line contains the value of z.\n",
    "\n",
    "Constraints:\n",
    "    \n",
    "-100000<=n<=100000\n",
    "\n",
    "Output\n",
    "\n",
    "Prints the output in the following format:\n",
    "\n",
    "Maximum Value: max_val\n",
    "\n",
    "Minimum Value: min_val"
   ]
  },
  {
   "cell_type": "code",
   "execution_count": 44,
   "id": "6877286b",
   "metadata": {},
   "outputs": [
    {
     "name": "stdout",
     "output_type": "stream",
     "text": [
      "500\n",
      "5874\n",
      "560\n",
      "Maximum Value : 5874\n",
      "Minimum Value: 500\n"
     ]
    }
   ],
   "source": [
    "my_dict={}\n",
    "my_dict['x']=int(input())\n",
    "my_dict['y']=int(input())\n",
    "my_dict['z']=int(input())\n",
    "print('Maximum Value :',max(my_dict.values()))\n",
    "print('Minimum Value:',min(my_dict.values()))"
   ]
  },
  {
   "cell_type": "markdown",
   "id": "c9f53702",
   "metadata": {},
   "source": [
    "Quiz\n",
    "\n",
    "What will be the output of following Python code?\n",
    "\n",
    "\n",
    "dict1={\"a\":10,\"b\":2,\"c\":3}\n",
    "\n",
    "str1=\"\"\n",
    "\n",
    "for i in dict1:\n",
    "\n",
    "    str1=str1+str(dict1[i])+\" \"\n",
    "\n",
    "    str2=str1[:-1]\n",
    "\n",
    "print(str2[::-1])\n",
    "\n",
    "A. 3, 2\n",
    "B. 3, 2, 10\n",
    "C. 3, 2, 01 correct\n",
    "D. Error\n",
    "\n",
    "Which function is used for iterating over the (key, value) pairs?\n",
    "\n",
    "A iterrows()\n",
    "B iteritems()  correct\n",
    "C itertuples()\n",
    "D All of the abov\n",
    "\n",
    "Which of the following is False regarding dictionary in Python?\n",
    "\n",
    "A Values of a dictionary can be string,integers or combination of both.\n",
    "B Keys of a dictionary can be string,integers or combination of both\n",
    "C The value of a dictionary can be accessed with the help of indices.\n",
    "D None of the above\n",
    "\n",
    "\n",
    "What will be the output of above Python code?\n",
    "\n",
    "d1={\"abc\":5,\"def\":6,\"ghi\":7}\n",
    "\n",
    "print(d1[0])\n",
    "\n",
    "A abc\n",
    "B 5\n",
    "C {\"abc\":5} \n",
    "D Error correct\n",
    "\n",
    "Which of the following will delete key_value pair for key=\"tiger\" in dictionary?\n",
    "\n",
    "dict={\"lion\":\"wild\",\"tiger\":\"wild\",\"cat\":\"domestic\",\"dog\":\"domestic\"}\n",
    "\n",
    "A del dic[\"tiger\"]\n",
    "B dic[\"tiger\"].delete()\n",
    "C delete(dic.[\"tiger\"])\n",
    "D del(dic.[\"tiger\"])\n"
   ]
  },
  {
   "cell_type": "markdown",
   "id": "dd3f9e5b",
   "metadata": {},
   "source": [
    "Assignment 3\n",
    "\n",
    "Problem Statement\n",
    "\n",
    "user would enter a word, using a python dictionary count the number of times each used alphabet is appearing in the word, and print the resulting dictionary.\n",
    "the dictionary should be ordered in the same sequence as typed by the user\n",
    "\n",
    "Input\n",
    "\n",
    "stats\n",
    "\n",
    "Output\n",
    "\n",
    "{'s': 2, 't': 2, 'a': 1}\n"
   ]
  },
  {
   "cell_type": "code",
   "execution_count": 46,
   "id": "4807d36d",
   "metadata": {},
   "outputs": [
    {
     "name": "stdout",
     "output_type": "stream",
     "text": [
      "stats\n",
      "{'s': 2, 't': 2, 'a': 1}\n"
     ]
    }
   ],
   "source": [
    "text = input()\n",
    "dict = {}\n",
    "for t in text:\n",
    "    dict[t] = text.count(t)\n",
    "print(dict)"
   ]
  },
  {
   "cell_type": "markdown",
   "id": "3e3bd1f1",
   "metadata": {},
   "source": [
    "Assignment 4\n",
    "\n",
    "Concat dictionary\n",
    "\n",
    "Problem Statement\n",
    "\n",
    "Write a program to concatenate the following dictionaries to create a new one.\n",
    "\n",
    "Sample Dictionary :\n",
    "\n",
    "dic1={1:10, 2:20}\n",
    "dic2={key:value}\n",
    "\n",
    "Expected Result : {1: 10, 2: 20, key: value}\n",
    "\n",
    "Input\n",
    "\n",
    "The first line contains the key, the second line contains the value.\n",
    "\n",
    "Constraints:\n",
    "    \n",
    "-100000<=k<=100000\n",
    "-100000<=v<=100000\n",
    "\n",
    "Output\n",
    "\n",
    "Prints the concatenated dictionary.\n",
    "\n",
    "Sample Input:\n",
    "\n",
    "3\n",
    "30\n",
    "\n",
    "Sample Ouput:\n",
    "\n",
    "{1: 10, 2: 20, 3: 30}"
   ]
  },
  {
   "cell_type": "code",
   "execution_count": 48,
   "id": "72473d1a",
   "metadata": {},
   "outputs": [
    {
     "name": "stdout",
     "output_type": "stream",
     "text": [
      "3\n",
      "30\n",
      "{1: 10, 2: 20, 3: 30}\n"
     ]
    }
   ],
   "source": [
    "k=int(input())\n",
    "v=int(input())\n",
    "dic1={1:10, 2:20}\n",
    "dic2={k:v}\n",
    "dic1.update(dic2)\n",
    "print(dic1)"
   ]
  },
  {
   "cell_type": "markdown",
   "id": "8deb511a",
   "metadata": {},
   "source": [
    "### "
   ]
  }
 ],
 "metadata": {
  "kernelspec": {
   "display_name": "Python 3",
   "language": "python",
   "name": "python3"
  },
  "language_info": {
   "codemirror_mode": {
    "name": "ipython",
    "version": 3
   },
   "file_extension": ".py",
   "mimetype": "text/x-python",
   "name": "python",
   "nbconvert_exporter": "python",
   "pygments_lexer": "ipython3",
   "version": "3.8.8"
  }
 },
 "nbformat": 4,
 "nbformat_minor": 5
}
